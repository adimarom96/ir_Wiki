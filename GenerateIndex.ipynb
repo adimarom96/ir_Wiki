{
  "cells": [
    {
      "cell_type": "code",
      "execution_count": null,
      "id": "aaaf0d34",
      "metadata": {
        "scrolled": true,
        "id": "aaaf0d34"
      },
      "outputs": [],
      "source": [
        "# if the following command generates an error, you probably didn't enable \n",
        "# the cluster security option \"Allow API access to all Google Cloud services\"\n",
        "# under Manage Security → Project Access when setting up the cluster\n",
        "!gcloud dataproc clusters list --region us-central1"
      ]
    },
    {
      "cell_type": "code",
      "execution_count": null,
      "id": "5a4426ea",
      "metadata": {
        "scrolled": true,
        "id": "5a4426ea"
      },
      "outputs": [],
      "source": [
        "!pip install -q google-cloud-storage==1.43.0\n",
        "!pip install -q graphframes"
      ]
    },
    {
      "cell_type": "code",
      "execution_count": null,
      "id": "f93ec273",
      "metadata": {
        "scrolled": true,
        "id": "f93ec273"
      },
      "outputs": [],
      "source": [
        "import sys\n",
        "from collections import Counter, OrderedDict, defaultdict\n",
        "import itertools\n",
        "from itertools import islice, count, groupby\n",
        "import pandas as pd\n",
        "import os\n",
        "import re\n",
        "import math\n",
        "from operator import itemgetter\n",
        "import nltk\n",
        "from nltk.stem.porter import *\n",
        "from nltk.corpus import stopwords\n",
        "from time import time\n",
        "from pathlib import Path\n",
        "import pickle\n",
        "import pandas as pd\n",
        "import numpy as np\n",
        "from google.cloud import storage\n",
        "from contextlib import closing\n",
        "\n",
        "import hashlib\n",
        "def _hash(s):\n",
        "    return hashlib.blake2b(bytes(s, encoding='utf8'), digest_size=5).hexdigest()\n",
        "\n",
        "nltk.download('stopwords')"
      ]
    },
    {
      "cell_type": "code",
      "execution_count": null,
      "id": "08c75315",
      "metadata": {
        "scrolled": true,
        "id": "08c75315"
      },
      "outputs": [],
      "source": [
        "# These will already be installed in the testing environment so disregard the \n",
        "# amount of time (~1 minute) it takes to install. \n",
        "!pip install -q pyspark\n",
        "!pip install -U -q PyDrive\n",
        "!apt-get update -qq #--------------------------------------->to gcp\n",
        "!apt install openjdk-8-jdk-headless -qq\n",
        "!pip install -q graphframes\n",
        "import os\n",
        "os.environ[\"JAVA_HOME\"] = \"/usr/lib/jvm/java-8-openjdk-amd64\"\n",
        "graphframes_jar = 'https://repos.spark-packages.org/graphframes/graphframes/0.8.2-spark3.2-s_2.12/graphframes-0.8.2-spark3.2-s_2.12.jar'\n",
        "spark_jars = '/usr/local/lib/python3.7/dist-packages/pyspark/jars'\n",
        "!wget -N -P $spark_jars $graphframes_jar"
      ]
    },
    {
      "cell_type": "code",
      "execution_count": null,
      "id": "71ab37e8",
      "metadata": {
        "scrolled": true,
        "id": "71ab37e8"
      },
      "outputs": [],
      "source": [
        "import pyspark\n",
        "from pyspark.sql import *\n",
        "from pyspark.sql.functions import *\n",
        "from pyspark import SparkContext, SparkConf\n",
        "from pyspark.sql import SQLContext\n",
        "from pyspark.ml.feature import Tokenizer, RegexTokenizer\n",
        "from graphframes import *"
      ]
    },
    {
      "cell_type": "code",
      "execution_count": null,
      "id": "f2af7c83",
      "metadata": {
        "scrolled": true,
        "id": "f2af7c83"
      },
      "outputs": [],
      "source": [
        "# if nothing prints here you forgot to include the initialization script when starting the cluster\n",
        "!ls -l /usr/lib/spark/jars/graph*"
      ]
    },
    {
      "cell_type": "code",
      "execution_count": null,
      "id": "6a789906",
      "metadata": {
        "scrolled": true,
        "id": "6a789906"
      },
      "outputs": [],
      "source": [
        "spark"
      ]
    },
    {
      "cell_type": "code",
      "execution_count": null,
      "id": "7e6bd56e",
      "metadata": {
        "scrolled": true,
        "id": "7e6bd56e"
      },
      "outputs": [],
      "source": [
        "# Put your bucket name below and make sure you can access it without an error\n",
        "bucket_name = 'adi3158'\n",
        "client = storage.Client()\n",
        "blobs = client.list_blobs(bucket_name)\n",
        "for b in blobs:\n",
        "    print(b.name)\n"
      ]
    },
    {
      "cell_type": "code",
      "execution_count": null,
      "id": "cc5e7b63",
      "metadata": {
        "scrolled": true,
        "id": "cc5e7b63"
      },
      "outputs": [],
      "source": [
        "import sys\n",
        "import builtins\n",
        "from collections import Counter, OrderedDict, defaultdict\n",
        "import itertools\n",
        "from itertools import islice, count, groupby\n",
        "import os\n",
        "import re\n",
        "from operator import itemgetter\n",
        "from pathlib import Path\n",
        "import pickle\n",
        "from contextlib import closing\n",
        "\n",
        "BLOCK_SIZE = 1999998\n",
        "\n",
        "class MultiFileWriter:\n",
        "    \"\"\" Sequential binary writer to multiple files of up to BLOCK_SIZE each. \"\"\"\n",
        "    def __init__(self, base_dir, name, bucket_name):#7 #('.',fullname,bucket_name)\n",
        "        self._base_dir = Path(base_dir)\n",
        "        self._name = name\n",
        "        self.client = storage.Client() #new ohad todo\n",
        "        self._bucket_name = self.client.bucket(bucket_name)\n",
        "        self._file_gen = (open(self._base_dir / f'{name}_{i:03}.bin', 'wb') \n",
        "                          for i in itertools.count())\n",
        "        self._f = next(self._file_gen)\n",
        "    \n",
        "    def write(self, b):#*******************************************\n",
        "      locs = []\n",
        "      while len(b) > 0:\n",
        "        pos = self._f.tell()\n",
        "        remaining = BLOCK_SIZE - pos\n",
        "        # if the current file is full, close and open a new one.\n",
        "        if remaining == 0:  \n",
        "          self._f.close()\n",
        "        \n",
        "          file_name = self._f.name # ohad todo change\n",
        "          blob = self._bucket_name.blob(f\"postings_gcp/{file_name}\")\n",
        "          blob.upload_from_filename(file_name)\n",
        "            \n",
        "          self._f = next(self._file_gen)\n",
        "          pos, remaining = 0, BLOCK_SIZE\n",
        "        self._f.write(b[:remaining])\n",
        "        locs.append((self._f.name, pos))\n",
        "        b = b[remaining:]\n",
        "      return locs\n",
        "\n",
        "    def close(self):\n",
        "      self._f.close()\n",
        "\n",
        "class MultiFileReader:\n",
        "  \"\"\" Sequential binary reader of multiple files of up to BLOCK_SIZE each. \"\"\"\n",
        "  def __init__(self):\n",
        "    self._open_files = {}\n",
        "    self.client = storage.Client()\n",
        "    self._bucket_name = self.client.bucket(bucket_name)\n",
        "\n",
        "  def read(self, locs, n_bytes):\n",
        "    b = []\n",
        "    for f_name, offset in locs:  \n",
        "      if f_name not in self._open_files:\n",
        "        blob = self._bucket_name.get_blob(f'postings_gcp/{f_name}')\n",
        "        self._open_files[f_name] = blob.open('rb')\n",
        "      f = self._open_files[f_name]\n",
        "      f.seek(offset)\n",
        "      n_read = builtins.min(n_bytes, BLOCK_SIZE - offset)\n",
        "      b.append(f.read(n_read))\n",
        "      n_bytes -= n_read\n",
        "    return b''.join(b)\n",
        "  \n",
        "  def close(self):\n",
        "    for f in self._open_files.values():\n",
        "      f.close()\n",
        "\n",
        "  def __exit__(self, exc_type, exc_value, traceback):\n",
        "    self.close()\n",
        "    return False\n",
        "\n",
        "TUPLE_SIZE = 6       # We're going to pack the doc_id and tf values in this \n",
        "                     # many bytes.\n",
        "TF_MASK = 2 ** 16 - 1 # Masking the 16 low bits of an integer\n",
        "# DL = {} \n",
        "class InvertedIndex:  \n",
        "  def __init__(self, docs={}):\n",
        "    \"\"\" Initializes the inverted index and add documents to it (if provided).\n",
        "    Parameters:\n",
        "    -----------\n",
        "      docs: dict mapping doc_id to list of tokens\n",
        "    \"\"\"\n",
        "    # DL represent a dict of {doc_id : len of the doc}\n",
        "    self.DL = {}\n",
        "    # stores document frequency per term\n",
        "    self.df = Counter()\n",
        "    # stores total frequency per term\n",
        "    self.term_total = Counter()\n",
        "    # stores posting list per term while building the index (internally), \n",
        "    # otherwise too big to store in memory.\n",
        "    self._posting_list = defaultdict(list)\n",
        "    # mapping a term to posting file locations, which is a list of \n",
        "    # (file_name, offset) pairs. Since posting lists are big we are going to\n",
        "    # write them to disk and just save their location in this list. We are \n",
        "    # using the MultiFileWriter helper class to write fixed-size files and store\n",
        "    # for each term/posting list its list of locations. The offset represents \n",
        "    # the number of bytes from the beginning of the file where the posting list\n",
        "    # starts. \n",
        "    self.posting_locs = defaultdict(list)\n",
        "    \n",
        "    for doc_id, tokens in docs.items():\n",
        "      self.add_doc(doc_id, tokens)\n",
        "\n",
        "  def add_doc(self, doc_id, tokens):\n",
        "    \"\"\" Adds a document to the index with a given `doc_id` and tokens. It counts\n",
        "        the tf of tokens, then update the index (in memory, no storage \n",
        "        side-effects).\n",
        "    \"\"\"\n",
        "    DL[(doc_id)] = DL.get(doc_id,0) + (len(tokens))\n",
        "    w2cnt = Counter(tokens)\n",
        "    self.term_total.update(w2cnt)\n",
        "    for w, cnt in w2cnt.items():\n",
        "      self.df[w] = self.df.get(w, 0) + 1\n",
        "      self._posting_list[w].append((doc_id, cnt))\n",
        "\n",
        "  def write_index(self, base_dir, name):\n",
        "    \"\"\" Write the in-memory index to disk. Results in the file: \n",
        "        (1) `name`.pkl containing the global term stats (e.g. df).\n",
        "    \"\"\"\n",
        "    self._write_globals(base_dir, name)\n",
        "\n",
        "  def _write_globals(self, base_dir, name):\n",
        "    with open(Path(base_dir) / f'{name}.pkl', 'wb') as f:\n",
        "      pickle.dump(self, f)\n",
        "\n",
        "  def __getstate__(self):\n",
        "    \"\"\" Modify how the object is pickled by removing the internal posting lists\n",
        "        from the object's state dictionary. \n",
        "    \"\"\"\n",
        "    state = self.__dict__.copy()\n",
        "    del state['_posting_list']\n",
        "    return state\n",
        "\n",
        "  def posting_lists_iter(self):\n",
        "    \"\"\" A generator that reads one posting list from disk and yields \n",
        "        a (word:str, [(doc_id:int, tf:int), ...]) tuple.\n",
        "    \"\"\"\n",
        "    with closing(MultiFileReader()) as reader:\n",
        "      for w, locs in self.posting_locs.items():\n",
        "        \n",
        "        b = reader.read(locs, self.df[w] * TUPLE_SIZE)\n",
        "        \n",
        "        posting_list = []\n",
        "        for i in range(self.df[w]):\n",
        "          doc_id = int.from_bytes(b[i*TUPLE_SIZE:i*TUPLE_SIZE+4], 'big')\n",
        "          tf = int.from_bytes(b[i*TUPLE_SIZE+4:(i+1)*TUPLE_SIZE], 'big')\n",
        "          posting_list.append((doc_id, tf))\n",
        "        yield w, posting_list\n",
        "\n",
        "  def posting_lists_iter_query(self,query_to_search):\n",
        "    \"\"\" A generator that reads one posting list from disk and yields \n",
        "        a (word:str, [(doc_id:int, tf:int), ...]) tuple.\n",
        "    \"\"\"\n",
        "    with closing(MultiFileReader()) as reader:\n",
        "      for w in query_to_search:\n",
        "        posting_list = []\n",
        "        if w in self.posting_locs:\n",
        "          locs = self.posting_locs[w]\n",
        "          b = reader.read(locs, self.df[w] * TUPLE_SIZE)\n",
        "          for i in range(self.df[w]):\n",
        "            doc_id = int.from_bytes(b[i*TUPLE_SIZE:i*TUPLE_SIZE+4], 'big')\n",
        "            tf = int.from_bytes(b[i*TUPLE_SIZE+4:(i+1)*TUPLE_SIZE], 'big')\n",
        "            posting_list.append((doc_id, tf))\n",
        "            \n",
        "        yield w, posting_list\n",
        "\n",
        "  @staticmethod\n",
        "  def read_index(base_dir, name):\n",
        "    with open(Path(base_dir) / f'{name}.pkl', 'rb') as f:\n",
        "      return pickle.load(f)\n",
        "\n",
        "  @staticmethod\n",
        "  def delete_index(base_dir, name):\n",
        "    path_globals = Path(base_dir) / f'{name}.pkl'\n",
        "    path_globals.unlink()\n",
        "    for p in Path(base_dir).rglob(f'{name}_*.bin'):\n",
        "      p.unlink()\n",
        "\n",
        "\n",
        "  @staticmethod\n",
        "  def write_a_posting_list(b_w_pl,prefix): # prefix = indexB / indexT ... \n",
        "    ''' Takes a (bucket_id, [(w0, posting_list_0), (w1, posting_list_1), ...]) \n",
        "    and writes it out to disk as files named {bucket_id}_XXX.bin under the \n",
        "    current directory. Returns a posting locations dictionary that maps each \n",
        "    word to the list of files and offsets that contain its posting list.\n",
        "    Parameters:\n",
        "    -----------\n",
        "      b_w_pl: tuple\n",
        "        Containing a bucket id and all (word, posting list) pairs in that bucket\n",
        "        (bucket_id, [(w0, posting_list_0), (w1, posting_list_1), ...])\n",
        "    Return:\n",
        "      posting_locs: dict\n",
        "        Posting locations for each of the words written out in this bucket.\n",
        "    '''\n",
        "    posting_locs = defaultdict(list)\n",
        "    bucket, list_w_pl = b_w_pl\n",
        "    print(\"in write posting list\")\n",
        "    fullname = prefix + str(bucket)\n",
        "    \n",
        "    with closing(MultiFileWriter('.',fullname,bucket_name)) as writer:\n",
        "      for w, pl in list_w_pl:\n",
        "        print(\"pl is \" ,pl)\n",
        "        # convert to bytes\n",
        "        b = b''.join([(doc_id << 16 | (tf & TF_MASK)).to_bytes(TUPLE_SIZE, 'big') for doc_id, tf in pl])\n",
        "        print('b is ', b)\n",
        "        # write to file(s)\n",
        "        locs = writer.write(b)#****************************** add index name todo new ohad\n",
        "        #save file locations to index\n",
        "        posting_locs[w].extend(locs)\n",
        "        \n",
        "      file_name = writer._f.name\n",
        "      blob = writer._bucket_name.blob(f\"postings_gcp/{file_name}\")\n",
        "      blob.upload_from_filename(file_name)    \n",
        "    \n",
        "    return posting_locs"
      ]
    },
    {
      "cell_type": "code",
      "execution_count": null,
      "id": "a8c2e2cc",
      "metadata": {
        "scrolled": true,
        "id": "a8c2e2cc"
      },
      "outputs": [],
      "source": [
        "english_stopwords = frozenset(stopwords.words('english'))\n",
        "corpus_stopwords = [\"category\", \"references\", \"also\", \"external\", \"links\", \n",
        "                    \"may\", \"first\", \"see\", \"history\", \"people\", \"one\", \"two\", \n",
        "                    \"part\", \"thumb\", \"including\", \"second\", \"following\", \n",
        "                    \"many\", \"however\", \"would\", \"became\"]\n",
        "\n",
        "all_stopwords = english_stopwords.union(corpus_stopwords)\n",
        "RE_WORD = re.compile(r\"\"\"[\\#\\@\\w](['\\-]?\\w){2,24}\"\"\", re.UNICODE)\n",
        "\n",
        "\n",
        "def tokenize(text):\n",
        "    \"\"\"\n",
        "    This function aims in tokenize a text into a list of tokens. Moreover, it filter stopwords.\n",
        "    \n",
        "    Parameters:\n",
        "    -----------\n",
        "    text: string , represting the text to tokenize.    \n",
        "    \n",
        "    Returns:\n",
        "    -----------\n",
        "    list of tokens (e.g., list of tokens).\n",
        "    \"\"\"\n",
        "    list_of_tokens =  [token.group() for token in RE_WORD.finditer(text.lower()) if token.group() not in all_stopwords]    \n",
        "    return list_of_tokens\n",
        "def reduce_word_counts(unsorted_pl):\n",
        "  ''' Returns a sorted posting list by wiki_id.\n",
        "  Parameters:\n",
        "  -----------\n",
        "    unsorted_pl: list of tuples\n",
        "      A list of (wiki_id, tf) tuples \n",
        "  Returns:\n",
        "  --------\n",
        "    list of tuples\n",
        "      A sorted posting list.\n",
        "  '''\n",
        "  lst =  sorted(unsorted_pl, key=lambda y: (y[0]))\n",
        "  return lst\n",
        "\n",
        "def calculate_df(postings):\n",
        "  ''' Takes a posting list RDD and calculate the df for each token.\n",
        "  Parameters:\n",
        "  -----------\n",
        "    postings: RDD\n",
        "      An RDD where each element is a (token, posting_list) pair.\n",
        "  Returns:\n",
        "  --------\n",
        "    RDD\n",
        "      An RDD where each element is a (token, df) pair.\n",
        "  '''\n",
        "  posting_pair = postings.mapValues(len)\n",
        "  \n",
        "  return posting_pair\n",
        "  #[('political', 290), ('philosophy', 135), ('movement', 231), ('sceptical', 12)\n",
        "def word_count(text, id):\n",
        "  tokens = [token.group() for token in RE_WORD.finditer(text.lower())]\n",
        "  tokens2=[]\n",
        "  for word in tokens:\n",
        "    if word not in all_stopwords:\n",
        "      tokens2.append(word)\n",
        "   \n",
        "  dic = {}\n",
        "  for word in tokens2:\n",
        "    if word in dic:\n",
        "      dic[word]= (id,dic[word][1]+1)\n",
        "    else:\n",
        "      dic[word]=(id,1)\n",
        "  lst =[(k,v) for k,v in dic.items()]\n",
        "  return lst    \n",
        "NUM_BUCKETS = 124\n",
        "def token2bucket_id(token):\n",
        "  return int(_hash(token),16) % NUM_BUCKETS\n",
        "\n",
        "def partition_postings_and_write(postings,prefix=\"\"):\n",
        "  #input (bucket_id, [(w0, posting_list_0), (w1, posting_list_1), ...])\n",
        "  #print(postings.collect()[0]) #: ('political', [(1, 336), (1, 594), (1, 676),...\n",
        "    \n",
        "  buckts_id = postings.map(lambda y:(token2bucket_id(y[0]),y)) # buckt id, \n",
        "  union_buc = buckts_id.groupByKey()\n",
        "  locations =  union_buc.map(lambda x : InvertedIndex.write_a_posting_list(x,prefix))\n",
        "  return locations\n",
        "\n",
        "def read_posting_list(inverted, w):\n",
        "  with closing(MultiFileReader()) as reader:\n",
        "    locs = inverted.posting_locs[w]\n",
        "    b = reader.read(locs, inverted.df[w] * TUPLE_SIZE)\n",
        "    posting_list = []\n",
        "    for i in range(inverted.df[w]):\n",
        "      doc_id = int.from_bytes(b[i*TUPLE_SIZE:i*TUPLE_SIZE+4], 'big')\n",
        "      tf = int.from_bytes(b[i*TUPLE_SIZE+4:(i+1)*TUPLE_SIZE], 'big')\n",
        "      posting_list.append((doc_id, tf))\n",
        "    return posting_list\n",
        "\n",
        "def tfidf_vector(doc, index):    \n",
        "    lstDoc = doc\n",
        "    epsilon = .0000001\n",
        "    total_vocab_size = len(index.term_total)\n",
        "    Q = np.zeros(len(lstDoc))\n",
        "    term_vector = lstDoc   \n",
        "    counter = Counter(lstDoc)\n",
        "    for token in np.unique(lstDoc):\n",
        "        if token in index.df.keys(): # avoid terms that do not appear in the index.   \n",
        "            tf = counter[token]/len(lstDoc) # term frequency divded by the length of the query\n",
        "            df = index.df[token]            \n",
        "            idf = math.log((len(index.DL))/(df+epsilon),10) #smoothing\n",
        "            try:\n",
        "                ind = term_vector.index(token)\n",
        "                Q[ind] = tf*idf               \n",
        "            except:\n",
        "                pass\n",
        "    return np.linalg.norm(Q)"
      ]
    },
    {
      "cell_type": "code",
      "execution_count": null,
      "id": "100f52b9",
      "metadata": {
        "id": "100f52b9"
      },
      "outputs": [],
      "source": [
        "full_path = \"gs://wikidata_preprocessed/*\"\n",
        "parquetFile = spark.read.parquet(full_path)\n",
        "parquetFile.count()# should be 6M"
      ]
    },
    {
      "cell_type": "code",
      "execution_count": null,
      "id": "93067917",
      "metadata": {
        "id": "93067917"
      },
      "outputs": [],
      "source": [
        "# ------------ body index\n",
        "doc_body_pairs = parquetFile.select(\"text\", \"id\").rdd\n",
        "doc_body_pairs_tok = doc_body_pairs.map(lambda x: (tokenize(x[0]),x[1]))\n",
        "DL_body = doc_body_pairs_tok.map(lambda x:(x[1],len(x[0]))).collectAsMap()\n",
        "\n"
      ]
    },
    {
      "cell_type": "code",
      "execution_count": null,
      "id": "b6a6900c",
      "metadata": {
        "id": "b6a6900c"
      },
      "outputs": [],
      "source": [
        "word_counts_body = doc_body_pairs.flatMap(lambda x: word_count(x[0], x[1]))\n",
        "postings_body = word_counts_body.groupByKey().mapValues(reduce_word_counts) \n",
        "postings_filtered_body = postings_body.filter(lambda x: len(x[1])>50) #50\n",
        "#body - calc df\n",
        "w2df_body = calculate_df(postings_filtered_body)\n",
        "w2df_dict_body = w2df_body.collectAsMap()\n",
        "posting_locs_list_body = partition_postings_and_write(postings_filtered_body,\"indexB\").collect()"
      ]
    },
    {
      "cell_type": "code",
      "execution_count": null,
      "id": "0672047c",
      "metadata": {
        "id": "0672047c"
      },
      "outputs": [],
      "source": [
        "super_posting_locs_body = defaultdict(list)\n",
        "for posting_loc in posting_locs_list_body:\n",
        "  for k, v in posting_loc.items():\n",
        "    super_posting_locs_body[k].extend(v)\n",
        "    "
      ]
    },
    {
      "cell_type": "code",
      "execution_count": null,
      "id": "66ef3065",
      "metadata": {
        "id": "66ef3065"
      },
      "outputs": [],
      "source": [
        "#body index\n",
        "# Create inverted index instance\n",
        "invertedB = InvertedIndex()\n",
        "# Adding the posting locations dictionary to the inverted index\n",
        "invertedB.posting_locs = super_posting_locs_body#B\n",
        "# Add the token - df dictionary to the inverted index\n",
        "invertedB.df = w2df_dict_body\n",
        "# Add the DL dict\n",
        "invertedB.DL = DL_body\n",
        "\n",
        "# calc tf-idf for each term and doc, before query\n",
        "doc_body_tfidf = doc_body_pairs_tok.map(lambda x: (x[1],tfidf_vector(x[0],invertedB))).collectAsMap()#new new\n",
        "invertedB.tfidf_dict = doc_body_tfidf\n",
        "\n",
        "# write the global stats out\n",
        "invertedB.write_index('.', 'indexB')\n",
        "\n",
        "# upload to gs\n",
        "index_src = \"indexB.pkl\"\n",
        "\n",
        "index_dst = f'gs://{bucket_name}/postings_gcp/{index_src}'\n",
        "!gsutil cp $index_src $index_dst\n",
        "\n"
      ]
    },
    {
      "cell_type": "code",
      "execution_count": null,
      "id": "c771cdb6",
      "metadata": {
        "id": "c771cdb6",
        "outputId": "151ca692-6644-46b9-872e-7500c20073a5"
      },
      "outputs": [
        {
          "name": "stderr",
          "output_type": "stream",
          "text": [
            "                                                                                \r"
          ]
        }
      ],
      "source": [
        "#--------------- title index\n",
        "doc_title_pairs = parquetFile.select(\"title\", \"id\").rdd\n",
        "doc_title_pairs_tok = doc_title_pairs.map(lambda x: (tokenize(x[0]),x[1]))\n",
        "DL_title = doc_title_pairs_tok.map(lambda x:(x[1],len(x[0]))).collectAsMap()\n"
      ]
    },
    {
      "cell_type": "code",
      "execution_count": null,
      "id": "a308214e",
      "metadata": {
        "scrolled": true,
        "id": "a308214e"
      },
      "outputs": [],
      "source": [
        "word_counts_title = doc_title_pairs.flatMap(lambda x: word_count(x[0], x[1]))\n",
        "postings_title = word_counts_title.groupByKey().mapValues(reduce_word_counts) \n",
        "postings_filtered_title = postings_title.filter(lambda x: len(x[1])>0) #50\n",
        "#title - calc df\n",
        "w2df_title = calculate_df(postings_filtered_title)\n",
        "w2df_dict_title = w2df_title.collectAsMap()\n",
        "posting_locs_list_title = partition_postings_and_write(postings_filtered_title,\"indexT\").collect()\n",
        "\n",
        "super_posting_locs_title = defaultdict(list)\n",
        "for posting_loc in posting_locs_list_title:\n",
        "  for k, v in posting_loc.items():\n",
        "    super_posting_locs_title[k].extend(v)\n",
        "    "
      ]
    },
    {
      "cell_type": "code",
      "execution_count": null,
      "id": "01554211",
      "metadata": {
        "id": "01554211"
      },
      "outputs": [],
      "source": [
        "word_counts_title.take(1)"
      ]
    },
    {
      "cell_type": "code",
      "execution_count": null,
      "id": "934b8351",
      "metadata": {
        "id": "934b8351"
      },
      "outputs": [],
      "source": [
        "#title index\n",
        "# Create inverted index instance\n",
        "invertedT = InvertedIndex()\n",
        "# Adding the posting locations dictionary to the inverted index\n",
        "invertedT.posting_locs = super_posting_locs_title\n",
        "# Add the token - df dictionary to the inverted index\n",
        "invertedT.df = w2df_dict_title\n",
        "# Add the DL dict\n",
        "invertedT.DL = DL_title\n",
        "\n"
      ]
    },
    {
      "cell_type": "code",
      "execution_count": null,
      "id": "de5059b6",
      "metadata": {
        "id": "de5059b6"
      },
      "outputs": [],
      "source": [
        "doc_title_tfidf = doc_title_pairs_tok.map(lambda x: (x[1],tfidf_vector(x[0],invertedT))).collectAsMap()#new new\n",
        "invertedT.tfidf_dict = doc_title_tfidf\n"
      ]
    },
    {
      "cell_type": "code",
      "execution_count": null,
      "id": "1cd79811",
      "metadata": {
        "id": "1cd79811"
      },
      "outputs": [],
      "source": [
        "\n",
        "# write the global stats out\n",
        "invertedT.write_index('.', 'indexT')\n",
        "\n"
      ]
    },
    {
      "cell_type": "code",
      "execution_count": null,
      "id": "506f450b",
      "metadata": {
        "id": "506f450b"
      },
      "outputs": [],
      "source": [
        "# upload to gs\n",
        "index_src = \"indexT.pkl\"\n",
        "index_dst = f'gs://{bucket_name}/postings_gcp/{index_src}'\n",
        "!gsutil cp $index_src $index_dst"
      ]
    },
    {
      "cell_type": "code",
      "execution_count": null,
      "id": "c927c312",
      "metadata": {
        "id": "c927c312",
        "outputId": "f039d816-977d-48de-8a5f-63244f5811f2"
      },
      "outputs": [
        {
          "name": "stderr",
          "output_type": "stream",
          "text": [
            "                                                                                \r"
          ]
        }
      ],
      "source": [
        "#------------------ index anchor\n",
        "#parq_test = parquetFile[parquetFile[\"id\"].isin(lst)]\n",
        "doc_anchor_pair = parquetFile.select(\"id\",\"anchor_text\").rdd\n",
        "doc_anchor_pair_flat = doc_anchor_pair.flatMap(lambda x :x[1]).groupByKey().mapValues(list).map(lambda x : (x[0],\" \".join([y for y in x[1]])))\n",
        "doc_anchor_pairs_tok = doc_anchor_pair_flat.map(lambda x: (x[0],tokenize(x[1])))\n",
        "DL_anchor = doc_anchor_pairs_tok.map(lambda x:(x[0],len(x[1]))).collectAsMap()\n",
        "\n"
      ]
    },
    {
      "cell_type": "code",
      "execution_count": null,
      "id": "1c081495",
      "metadata": {
        "id": "1c081495",
        "outputId": "56b6843a-895f-4224-dd1a-cb0f28e29d91"
      },
      "outputs": [
        {
          "data": {
            "text/plain": [
              "5867103"
            ]
          },
          "execution_count": 15,
          "metadata": {},
          "output_type": "execute_result"
        }
      ],
      "source": [
        "len(DL_anchor)"
      ]
    },
    {
      "cell_type": "code",
      "execution_count": null,
      "id": "b49c7978",
      "metadata": {
        "id": "b49c7978",
        "outputId": "7a23d819-52f7-4b4f-ee54-aba4d5a0f0b6"
      },
      "outputs": [
        {
          "name": "stderr",
          "output_type": "stream",
          "text": [
            "                                                                                \r"
          ]
        },
        {
          "name": "stdout",
          "output_type": "stream",
          "text": [
            "end\n"
          ]
        }
      ],
      "source": [
        "\n",
        "word_counts_anchor = doc_anchor_pair_flat.flatMap(lambda x: word_count(x[1], x[0]))\n",
        "postings_anchor = word_counts_anchor.groupByKey().mapValues(reduce_word_counts) \n",
        "postings_filtered_anchor = postings_anchor.filter(lambda x: len(x[1])>0) #50\n",
        "\n",
        "# #anchot - calc df\n",
        "w2df_anchor = calculate_df(postings_filtered_anchor)\n",
        "w2df_dict_anchor = w2df_anchor.collectAsMap()\n",
        "posting_locs_list_anchor = partition_postings_and_write(postings_filtered_anchor,\"indexA\").collect()\n",
        "print(\"end\")\n",
        "\n",
        "super_posting_locs_anchor = defaultdict(list)\n",
        "for posting_loc in posting_locs_list_anchor:\n",
        "  for k, v in posting_loc.items():\n",
        "    super_posting_locs_anchor[k].extend(v)\n",
        "    "
      ]
    },
    {
      "cell_type": "code",
      "execution_count": null,
      "id": "dcbd874b",
      "metadata": {
        "id": "dcbd874b",
        "outputId": "b6f563dd-afb4-4472-de2d-909617035a73"
      },
      "outputs": [
        {
          "name": "stderr",
          "output_type": "stream",
          "text": [
            "                                                                                \r"
          ]
        }
      ],
      "source": [
        "\n",
        "#print(general_anchor.take(1))\n",
        "\n",
        "#anchor index\n",
        "# Create inverted index instance\n",
        "invertedA = InvertedIndex()\n",
        "# Adding the posting locations dictionary to the inverted index\n",
        "invertedA.posting_locs = super_posting_locs_anchor\n",
        "# Add the token - df dictionary to the inverted index\n",
        "invertedA.df = w2df_dict_anchor\n",
        "# Add the DL dict\n",
        "invertedA.DL = DL_anchor\n",
        "\n",
        "#\n",
        "doc_anchor_tfidf = doc_anchor_pairs_tok.map(lambda x: (x[0],tfidf_vector(x[1],invertedA))).collectAsMap()#new new\n",
        "invertedA.tfidf_dict = doc_anchor_tfidf\n"
      ]
    },
    {
      "cell_type": "code",
      "source": [
        "for blob in client.list_blobs(bucket_name):\n",
        "  if not blob.name.endswith(\"indexT.pkl\"):\n",
        "    continue\n",
        "  with blob.open(\"rb\") as f:\n",
        "    invertedT = pickle.load(f)\n",
        "    print(\"cretae invertedT\")    \n",
        "    \n",
        "for blob in client.list_blobs(bucket_name):\n",
        "  if not blob.name.endswith(\"indexA.pkl\"):\n",
        "    continue\n",
        "  with blob.open(\"rb\") as f:\n",
        "    invertedA = pickle.load(f)\n",
        "    print(\"cretae invertedA\")\n",
        "    \n",
        "for blob in client.list_blobs(bucket_name):\n",
        "  if not blob.name.endswith(\"indexB.pkl\"):\n",
        "    continue\n",
        "  with blob.open(\"rb\") as f:\n",
        "    invertedB = pickle.load(f)\n",
        "    print(\"cretae invertedB\")\n",
        "\n",
        "  "
      ],
      "metadata": {
        "id": "_OZ0NlawTX77"
      },
      "id": "_OZ0NlawTX77",
      "execution_count": null,
      "outputs": []
    },
    {
      "cell_type": "code",
      "source": [
        "for blob in client.list_blobs(bucket_name):\n",
        "  if not blob.name.endswith(\"page_rank_dict.pckl\"):\n",
        "    continue\n",
        "  with blob.open(\"rb\") as f:\n",
        "    page_rank_dict = pickle.load(f)\n",
        "    print(\"cretae new pagerank\")\n",
        "    \n",
        "for blob in client.list_blobs(bucket_name):\n",
        "  if not blob.name.endswith(\"pageviews-202108-user.pkl\"):\n",
        "    continue\n",
        "  with blob.open(\"rb\") as f:\n",
        "    page_view_dict = pickle.load(f)\n",
        "    print(\"cretae new pageview\")\n",
        "    \n",
        "for blob in client.list_blobs(bucket_name):\n",
        "  if not blob.name.endswith(\"title_dict.pkl\"):\n",
        "    continue\n",
        "  with blob.open(\"rb\") as f:\n",
        "    title_dict = pickle.load(f)\n",
        "    print(\"cretae title dict\")    "
      ],
      "metadata": {
        "id": "Xdq7OiELTVSr"
      },
      "id": "Xdq7OiELTVSr",
      "execution_count": null,
      "outputs": []
    }
  ],
  "metadata": {
    "kernelspec": {
      "display_name": "PySpark",
      "language": "python",
      "name": "pyspark"
    },
    "language_info": {
      "codemirror_mode": {
        "name": "ipython",
        "version": 3
      },
      "file_extension": ".py",
      "mimetype": "text/x-python",
      "name": "python",
      "nbconvert_exporter": "python",
      "pygments_lexer": "ipython3",
      "version": "3.8.12"
    },
    "colab": {
      "name": "gcp4 (1) (2) (1).ipynb",
      "provenance": []
    }
  },
  "nbformat": 4,
  "nbformat_minor": 5
}